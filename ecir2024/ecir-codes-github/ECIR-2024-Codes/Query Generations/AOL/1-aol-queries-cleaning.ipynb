{
 "cells": [
  {
   "attachments": {},
   "cell_type": "markdown",
   "metadata": {},
   "source": [
    "In this notebook, I intend to do the following:\n",
    "- remove queries containing any weblinks (removed all queries with a dot (.) present)\n",
    "- remove queries whose terms do not belong to the vocab set of the corpus"
   ]
  },
  {
   "cell_type": "code",
   "execution_count": 21,
   "metadata": {},
   "outputs": [],
   "source": [
    "with open('./unique-queries-aol.txt', 'r') as f:\n",
    "    unique_aol_queries = f.read().splitlines()"
   ]
  },
  {
   "cell_type": "code",
   "execution_count": 22,
   "metadata": {},
   "outputs": [
    {
     "data": {
      "text/plain": [
       "10154741"
      ]
     },
     "execution_count": 22,
     "metadata": {},
     "output_type": "execute_result"
    }
   ],
   "source": [
    "len(unique_aol_queries)"
   ]
  },
  {
   "cell_type": "code",
   "execution_count": 23,
   "metadata": {},
   "outputs": [
    {
     "data": {
      "text/plain": [
       "list"
      ]
     },
     "execution_count": 23,
     "metadata": {},
     "output_type": "execute_result"
    }
   ],
   "source": [
    "type(unique_aol_queries)"
   ]
  },
  {
   "cell_type": "code",
   "execution_count": 24,
   "metadata": {},
   "outputs": [
    {
     "data": {
      "text/plain": [
       "['how to do sign language',\n",
       " 'www.commercebank.pc',\n",
       " 'mandee broadway mall',\n",
       " 'smartandfinalemployment',\n",
       " 'decorator wrought iron table bases',\n",
       " 'aol online call waiting',\n",
       " 'ontario wineries',\n",
       " 'nyti mes atrs',\n",
       " 'riversidecommunitycollege',\n",
       " 'spoon']"
      ]
     },
     "execution_count": 24,
     "metadata": {},
     "output_type": "execute_result"
    }
   ],
   "source": [
    "unique_aol_queries[500:510]"
   ]
  },
  {
   "cell_type": "code",
   "execution_count": 25,
   "metadata": {},
   "outputs": [],
   "source": [
    "dot_clean_queries = [query for query in unique_aol_queries if '.' not in query]"
   ]
  },
  {
   "cell_type": "code",
   "execution_count": 26,
   "metadata": {},
   "outputs": [
    {
     "data": {
      "text/plain": [
       "7321967"
      ]
     },
     "execution_count": 26,
     "metadata": {},
     "output_type": "execute_result"
    }
   ],
   "source": [
    "len(dot_clean_queries)"
   ]
  },
  {
   "cell_type": "code",
   "execution_count": 27,
   "metadata": {},
   "outputs": [
    {
     "data": {
      "text/plain": [
       "['clap your hands say yeah lyrics',\n",
       " 'family practioners in greenville tn',\n",
       " 'hard drive partition',\n",
       " 'myspaecom',\n",
       " 'toys r us playgrouns',\n",
       " 'brent wilkes',\n",
       " 'inogen portable oxygen',\n",
       " 'wwwalantabravesscores',\n",
       " 'kunz handguns',\n",
       " 'skatalites knitting factory',\n",
       " 'rape http',\n",
       " 'younghairypussy',\n",
       " 'stem sell research in picture',\n",
       " 'american merchant marine vets',\n",
       " 'is boarding school beneficial to children',\n",
       " 'z60t',\n",
       " 'dc night club fur',\n",
       " 'sleep rape pictures',\n",
       " 'tree of life ministry',\n",
       " 'west virgina road atlas',\n",
       " 'sixflagsoveratlanta',\n",
       " 'americansignlanguagequiz',\n",
       " 'category o 3pt hitch trencher']"
      ]
     },
     "execution_count": 27,
     "metadata": {},
     "output_type": "execute_result"
    }
   ],
   "source": [
    "dot_clean_queries[789:812]"
   ]
  },
  {
   "attachments": {},
   "cell_type": "markdown",
   "metadata": {},
   "source": [
    "### AOL queries intersection Corpus vocab\n",
    "#### Using Lucene index"
   ]
  },
  {
   "cell_type": "code",
   "execution_count": 18,
   "metadata": {},
   "outputs": [
    {
     "data": {
      "text/plain": [
       "<jcc.JCCEnv at 0x7ff628031410>"
      ]
     },
     "execution_count": 18,
     "metadata": {},
     "output_type": "execute_result"
    }
   ],
   "source": [
    "# lucene imports\n",
    "import lucene\n",
    "from org.apache.lucene.analysis.en import EnglishAnalyzer\n",
    "from org.apache.lucene.store import FSDirectory\n",
    "from org.apache.lucene.index import DirectoryReader\n",
    "from org.apache.lucene.search import IndexSearcher\n",
    "from java.io import File\n",
    "from org.apache.lucene.queryparser.classic import QueryParser\n",
    "\n",
    "# lucene init Virtual Machine\n",
    "lucene.initVM()"
   ]
  },
  {
   "cell_type": "code",
   "execution_count": 19,
   "metadata": {},
   "outputs": [],
   "source": [
    "index_dir = '../Wikipedia/index-enwiki/'\n",
    "FIELDNAME = 'CONTENT'\n",
    "\n",
    "indexPath = File(index_dir).toPath()\n",
    "indexDir = FSDirectory.open(indexPath)\n",
    "\n",
    "reader = DirectoryReader.open(indexDir)\n",
    "searcher = IndexSearcher(reader)\n",
    "\n",
    "analyzer = EnglishAnalyzer()\n",
    "query_parser = QueryParser(FIELDNAME, analyzer)"
   ]
  },
  {
   "cell_type": "code",
   "execution_count": 29,
   "metadata": {},
   "outputs": [],
   "source": [
    "def is_word_in_index(word):\n",
    "    escaped_word = QueryParser(FIELDNAME, analyzer).escape(word)\n",
    "    query = query_parser.parse(escaped_word)\n",
    "\n",
    "    top_docs = searcher.search(query, 1)\n",
    "\n",
    "    if top_docs.totalHits.value > 0:\n",
    "        is_present = True\n",
    "    else:\n",
    "        is_present = False\n",
    "    return is_present"
   ]
  },
  {
   "cell_type": "code",
   "execution_count": 32,
   "metadata": {},
   "outputs": [
    {
     "name": "stderr",
     "output_type": "stream",
     "text": [
      "100%|██████████| 7321967/7321967 [1:05:46<00:00, 1855.50it/s]\n"
     ]
    }
   ],
   "source": [
    "# only including aol queries which has all its terms present in the Wikipedia vocabulary\n",
    "\n",
    "from tqdm import tqdm\n",
    "\n",
    "clean_aol_queries = []\n",
    "for query in tqdm(dot_clean_queries):\n",
    "    flag = 0\n",
    "    for term in query.split():\n",
    "        if not is_word_in_index(term):\n",
    "            flag = 1\n",
    "            break\n",
    "    if flag == 0:\n",
    "        clean_aol_queries.append(query)"
   ]
  },
  {
   "cell_type": "code",
   "execution_count": 33,
   "metadata": {},
   "outputs": [
    {
     "data": {
      "text/plain": [
       "4551088"
      ]
     },
     "execution_count": 33,
     "metadata": {},
     "output_type": "execute_result"
    }
   ],
   "source": [
    "len(clean_aol_queries)"
   ]
  },
  {
   "cell_type": "code",
   "execution_count": 34,
   "metadata": {},
   "outputs": [],
   "source": [
    "with open('wiki-vocab-only-aol-queries.txt', 'w') as f:\n",
    "    f.write('\\n'.join(clean_aol_queries)+'\\n')"
   ]
  },
  {
   "cell_type": "code",
   "execution_count": 36,
   "metadata": {},
   "outputs": [
    {
     "data": {
      "text/plain": [
       "['buenos aires gold hardware stores',\n",
       " '99z',\n",
       " 'manna oil',\n",
       " 'townhouse rentals phoenix',\n",
       " 'rain go ok',\n",
       " 'boyfriend warnings',\n",
       " 'earl simmons',\n",
       " 'lymphatic leukemia',\n",
       " 'barbecue ribs recipe']"
      ]
     },
     "execution_count": 36,
     "metadata": {},
     "output_type": "execute_result"
    }
   ],
   "source": [
    "clean_aol_queries[786:795]"
   ]
  },
  {
   "cell_type": "code",
   "execution_count": 1,
   "metadata": {},
   "outputs": [],
   "source": [
    "with open('./wiki-vocab-only-aol-queries.txt', 'r') as f:\n",
    "    clean_aol_queries = f.read().splitlines()"
   ]
  },
  {
   "cell_type": "code",
   "execution_count": 2,
   "metadata": {},
   "outputs": [
    {
     "data": {
      "text/plain": [
       "3.0460037248236027"
      ]
     },
     "execution_count": 2,
     "metadata": {},
     "output_type": "execute_result"
    }
   ],
   "source": [
    "# Average length of cleaned AOL queries\n",
    "sum([len(query.split()) for query in clean_aol_queries])/len(clean_aol_queries)"
   ]
  },
  {
   "cell_type": "code",
   "execution_count": 4,
   "metadata": {},
   "outputs": [],
   "source": [
    "query_lens = [len(q.split()) for q in clean_aol_queries]"
   ]
  },
  {
   "cell_type": "code",
   "execution_count": 5,
   "metadata": {},
   "outputs": [
    {
     "data": {
      "text/plain": [
       "209"
      ]
     },
     "execution_count": 5,
     "metadata": {},
     "output_type": "execute_result"
    }
   ],
   "source": [
    "max(query_lens)"
   ]
  },
  {
   "cell_type": "code",
   "execution_count": 12,
   "metadata": {},
   "outputs": [
    {
     "data": {
      "text/plain": [
       "\"nike women's impax dynamic td tr tr td valign top color white silver university blue td tr tbody table\""
      ]
     },
     "execution_count": 12,
     "metadata": {},
     "output_type": "execute_result"
    }
   ],
   "source": [
    "clean_aol_queries[query_lens.index(19)]"
   ]
  },
  {
   "cell_type": "code",
   "execution_count": 33,
   "metadata": {},
   "outputs": [
    {
     "data": {
      "text/plain": [
       "['w w w w x n pa ps pz x px p 0 w w y y 0 z 0g',\n",
       " 'fotos de el partido de el ac milan y el fc barcelona de la semifinal de la liga de campeones',\n",
       " 'co-workers who ask too many questions regarding how would you handle co-workers who ask too many questions regarding confidential information',\n",
       " 't n p f 9 g t 8 q y c 1 g q c o v 8 8 n',\n",
       " 'c w 5 s y i zh z z e e v g tn ty k s l g 3',\n",
       " 'u h b2 r b t -b 8 b zs p t i z e p n l t b',\n",
       " 'sn m21235&type detailed&imgs 1 2 3 4 5 6 7 8 10 11 12 13 14 15 16 17&email zachary',\n",
       " \"how do i change my child's aol america online screen name password when i'm signed onto my own screen name\",\n",
       " 'table width 320 border 0 cellpadding 0 cellspacing 0 tr td width 5 rowspan 3 valign top img src http',\n",
       " 'usa authentic derek jeter 2006 world baseball classic home jersey usa authentic derek jeter 2006 world baseball classic home jersey',\n",
       " 'low-level mid-level high-level kelp irish moss kelp plankton plankton blue-green algae dulse rock weed lichen eel grass sea lettuce sargassum',\n",
       " \"o jm eco d n i 3 s l k n' 3 b j z 8 r d s q\",\n",
       " \"miga esse findi vai rolar rehab party em vegas 'e uma puta festa que so rola noi memorial day ach\",\n",
       " '78 ford f100 xt short bed 2 wheel drive 351m mor auto trans am fm steroe air conditioning power steering',\n",
       " 'table cellspacing 0 cellpadding 0 width 100 border 0 tbody tr td valign center align left td tr tbody table',\n",
       " 'zfa 0q j q u x w 2 j n2 6 x x m w d i -t s w']"
      ]
     },
     "execution_count": 33,
     "metadata": {},
     "output_type": "execute_result"
    }
   ],
   "source": [
    "[clean_aol_queries[i] for i in range(len(query_lens)) if query_lens[i] == 20]"
   ]
  },
  {
   "cell_type": "code",
   "execution_count": 9,
   "metadata": {},
   "outputs": [
    {
     "name": "stderr",
     "output_type": "stream",
     "text": [
      "Matplotlib is building the font cache; this may take a moment.\n"
     ]
    },
    {
     "data": {
      "image/png": "[encoded data removed]",
      "text/plain": [
       "<Figure size 432x288 with 1 Axes>"
      ]
     },
     "metadata": {
      "needs_background": "light"
     },
     "output_type": "display_data"
    }
   ],
   "source": [
    "import matplotlib.pyplot as plt\n",
    "\n",
    "bin_size = 1\n",
    "bin_range = range(0, max(query_lens) + bin_size, bin_size)\n",
    "\n",
    "# Plot the histogram\n",
    "n, bins, patches = plt.hist(query_lens, bins=bin_range)\n",
    "\n",
    "# labels and a title\n",
    "plt.xlabel('Length of Query')\n",
    "plt.ylabel('Frequency')\n",
    "plt.title('Distribution of Query Lengths')\n",
    "\n",
    "# Show the plot\n",
    "plt.show()"
   ]
  },
  {
   "cell_type": "code",
   "execution_count": 10,
   "metadata": {},
   "outputs": [
    {
     "name": "stdout",
     "output_type": "stream",
     "text": [
      "Query Length\tFrequency\n",
      "0\t1.0\n",
      "1\t254647.0\n",
      "2\t1411221.0\n",
      "3\t1519506.0\n",
      "4\t861411.0\n",
      "5\t336884.0\n",
      "6\t112751.0\n",
      "7\t35281.0\n",
      "8\t11585.0\n",
      "9\t4282.0\n",
      "10\t1693.0\n",
      "11\t788.0\n",
      "12\t412.0\n",
      "13\t184.0\n",
      "14\t115.0\n",
      "15\t61.0\n",
      "16\t68.0\n",
      "17\t40.0\n",
      "18\t36.0\n",
      "19\t11.0\n",
      "20\t16.0\n",
      "21\t8.0\n",
      "22\t3.0\n",
      "23\t6.0\n",
      "24\t5.0\n",
      "25\t4.0\n",
      "26\t3.0\n",
      "27\t5.0\n",
      "28\t6.0\n",
      "29\t4.0\n",
      "30\t4.0\n",
      "31\t2.0\n",
      "32\t6.0\n",
      "33\t4.0\n",
      "34\t1.0\n",
      "35\t4.0\n",
      "36\t1.0\n",
      "37\t0.0\n",
      "38\t0.0\n",
      "39\t0.0\n",
      "40\t0.0\n",
      "41\t4.0\n",
      "42\t5.0\n",
      "43\t1.0\n",
      "44\t1.0\n",
      "45\t2.0\n",
      "46\t0.0\n",
      "47\t0.0\n",
      "48\t0.0\n",
      "49\t2.0\n",
      "50\t1.0\n",
      "51\t2.0\n",
      "52\t0.0\n",
      "53\t0.0\n",
      "54\t0.0\n",
      "55\t0.0\n",
      "56\t1.0\n",
      "57\t0.0\n",
      "58\t0.0\n",
      "59\t0.0\n",
      "60\t1.0\n",
      "61\t0.0\n",
      "62\t0.0\n",
      "63\t0.0\n",
      "64\t0.0\n",
      "65\t1.0\n",
      "66\t0.0\n",
      "67\t1.0\n",
      "68\t0.0\n",
      "69\t0.0\n",
      "70\t0.0\n",
      "71\t0.0\n",
      "72\t0.0\n",
      "73\t0.0\n",
      "74\t0.0\n",
      "75\t0.0\n",
      "76\t0.0\n",
      "77\t0.0\n",
      "78\t1.0\n",
      "79\t0.0\n",
      "80\t0.0\n",
      "81\t0.0\n",
      "82\t0.0\n",
      "83\t0.0\n",
      "84\t0.0\n",
      "85\t1.0\n",
      "86\t0.0\n",
      "87\t0.0\n",
      "88\t0.0\n",
      "89\t0.0\n",
      "90\t0.0\n",
      "91\t0.0\n",
      "92\t0.0\n",
      "93\t0.0\n",
      "94\t0.0\n",
      "95\t0.0\n",
      "96\t0.0\n",
      "97\t0.0\n",
      "98\t0.0\n",
      "99\t0.0\n",
      "100\t0.0\n",
      "101\t0.0\n",
      "102\t0.0\n",
      "103\t0.0\n",
      "104\t0.0\n",
      "105\t0.0\n",
      "106\t0.0\n",
      "107\t0.0\n",
      "108\t0.0\n",
      "109\t0.0\n",
      "110\t0.0\n",
      "111\t0.0\n",
      "112\t0.0\n",
      "113\t0.0\n",
      "114\t0.0\n",
      "115\t0.0\n",
      "116\t0.0\n",
      "117\t0.0\n",
      "118\t0.0\n",
      "119\t0.0\n",
      "120\t0.0\n",
      "121\t0.0\n",
      "122\t0.0\n",
      "123\t0.0\n",
      "124\t0.0\n",
      "125\t0.0\n",
      "126\t0.0\n",
      "127\t0.0\n",
      "128\t0.0\n",
      "129\t0.0\n",
      "130\t0.0\n",
      "131\t0.0\n",
      "132\t0.0\n",
      "133\t0.0\n",
      "134\t0.0\n",
      "135\t0.0\n",
      "136\t0.0\n",
      "137\t0.0\n",
      "138\t1.0\n",
      "139\t0.0\n",
      "140\t0.0\n",
      "141\t0.0\n",
      "142\t0.0\n",
      "143\t0.0\n",
      "144\t0.0\n",
      "145\t0.0\n",
      "146\t0.0\n",
      "147\t0.0\n",
      "148\t0.0\n",
      "149\t0.0\n",
      "150\t0.0\n",
      "151\t0.0\n",
      "152\t0.0\n",
      "153\t0.0\n",
      "154\t0.0\n",
      "155\t0.0\n",
      "156\t0.0\n",
      "157\t0.0\n",
      "158\t0.0\n",
      "159\t0.0\n",
      "160\t0.0\n",
      "161\t0.0\n",
      "162\t0.0\n",
      "163\t0.0\n",
      "164\t0.0\n",
      "165\t0.0\n",
      "166\t0.0\n",
      "167\t3.0\n",
      "168\t0.0\n",
      "169\t0.0\n",
      "170\t0.0\n",
      "171\t0.0\n",
      "172\t0.0\n",
      "173\t0.0\n",
      "174\t0.0\n",
      "175\t0.0\n",
      "176\t0.0\n",
      "177\t0.0\n",
      "178\t0.0\n",
      "179\t0.0\n",
      "180\t0.0\n",
      "181\t0.0\n",
      "182\t0.0\n",
      "183\t0.0\n",
      "184\t0.0\n",
      "185\t0.0\n",
      "186\t0.0\n",
      "187\t0.0\n",
      "188\t0.0\n",
      "189\t0.0\n",
      "190\t0.0\n",
      "191\t0.0\n",
      "192\t0.0\n",
      "193\t0.0\n",
      "194\t0.0\n",
      "195\t0.0\n",
      "196\t0.0\n",
      "197\t0.0\n",
      "198\t0.0\n",
      "199\t0.0\n",
      "200\t0.0\n",
      "201\t0.0\n",
      "202\t0.0\n",
      "203\t0.0\n",
      "204\t0.0\n",
      "205\t0.0\n",
      "206\t0.0\n",
      "207\t0.0\n",
      "208\t1.0\n"
     ]
    }
   ],
   "source": [
    "# Print the frequency counts for each bin\n",
    "print('Query Length\\tFrequency')\n",
    "for i in range(len(n)):\n",
    "    print(f'{bins[i]}\\t{n[i]}')"
   ]
  },
  {
   "cell_type": "code",
   "execution_count": 23,
   "metadata": {},
   "outputs": [
    {
     "data": {
      "image/png": "[encoded data removed]",
      "text/plain": [
       "<Figure size 432x288 with 1 Axes>"
      ]
     },
     "metadata": {
      "needs_background": "light"
     },
     "output_type": "display_data"
    }
   ],
   "source": [
    "import matplotlib.pyplot as plt\n",
    "\n",
    "bin_size = 1\n",
    "bin_range = [i-0.5 for i in range(0, 21, bin_size)]\n",
    "\n",
    "# Plot the histogram\n",
    "n, bins, patches = plt.hist(query_lens, bins=bin_range)\n",
    "\n",
    "# labels and a title\n",
    "plt.xlabel('Length of Query')\n",
    "plt.ylabel('Frequency')\n",
    "plt.title('Distribution of Query Lengths')\n",
    "\n",
    "# Show the plot\n",
    "plt.show()"
   ]
  },
  {
   "cell_type": "code",
   "execution_count": 28,
   "metadata": {},
   "outputs": [
    {
     "name": "stdout",
     "output_type": "stream",
     "text": [
      "Query Length\tFrequency\n",
      "0.0\t\t1.0\n",
      "1.0\t\t254647.0\n",
      "2.0\t\t1411221.0\n",
      "3.0\t\t1519506.0\n",
      "4.0\t\t861411.0\n",
      "5.0\t\t336884.0\n",
      "6.0\t\t112751.0\n",
      "7.0\t\t35281.0\n",
      "8.0\t\t11585.0\n",
      "9.0\t\t4282.0\n",
      "10.0\t\t1693.0\n",
      "11.0\t\t788.0\n",
      "12.0\t\t412.0\n",
      "13.0\t\t184.0\n",
      "14.0\t\t115.0\n",
      "15.0\t\t61.0\n",
      "16.0\t\t68.0\n",
      "17.0\t\t40.0\n",
      "18.0\t\t36.0\n",
      "19.0\t\t11.0\n"
     ]
    }
   ],
   "source": [
    "# Print the frequency counts for each bin\n",
    "print('Query Length\\tFrequency')\n",
    "for i in range(len(n)):\n",
    "    print(f'{bins[i]+0.5}\\t\\t{n[i]}')"
   ]
  },
  {
   "cell_type": "code",
   "execution_count": 34,
   "metadata": {},
   "outputs": [
    {
     "data": {
      "text/plain": [
       "4550977.0"
      ]
     },
     "execution_count": 34,
     "metadata": {},
     "output_type": "execute_result"
    }
   ],
   "source": [
    "# no. of queries\n",
    "sum(n)"
   ]
  },
  {
   "cell_type": "code",
   "execution_count": 27,
   "metadata": {},
   "outputs": [
    {
     "data": {
      "text/plain": [
       "3.045158435210725"
      ]
     },
     "execution_count": 27,
     "metadata": {},
     "output_type": "execute_result"
    }
   ],
   "source": [
    "# average length of queries\n",
    "sum([n[i]*i for i in range(len(n))])/sum(n)"
   ]
  },
  {
   "attachments": {},
   "cell_type": "markdown",
   "metadata": {},
   "source": [
    "#### Filtering the queries having length >= 20"
   ]
  },
  {
   "cell_type": "code",
   "execution_count": 5,
   "metadata": {},
   "outputs": [],
   "source": [
    "with open('./wiki-vocab-only-aol-queries.txt', 'r') as f:\n",
    "    clean_aol_queries = f.read().splitlines()"
   ]
  },
  {
   "cell_type": "code",
   "execution_count": 12,
   "metadata": {},
   "outputs": [],
   "source": [
    "queries_with_lens = [(q, len(q.split())) for q in clean_aol_queries]"
   ]
  },
  {
   "cell_type": "code",
   "execution_count": 8,
   "metadata": {},
   "outputs": [],
   "source": [
    "# filtering queries of length >= 20\n",
    "final_aol_queries = [q for q,l in queries_with_lens if l < 20]"
   ]
  },
  {
   "cell_type": "code",
   "execution_count": 17,
   "metadata": {},
   "outputs": [],
   "source": [
    "with open('final-aol-queries.txt', 'w') as f:\n",
    "    f.write('\\n'.join(final_aol_queries)+'\\n')"
   ]
  },
  {
   "cell_type": "code",
   "execution_count": 13,
   "metadata": {},
   "outputs": [
    {
     "data": {
      "image/png": "[encoded data removed]",
      "text/plain": [
       "<Figure size 432x288 with 1 Axes>"
      ]
     },
     "metadata": {
      "needs_background": "light"
     },
     "output_type": "display_data"
    }
   ],
   "source": [
    "import matplotlib.pyplot as plt\n",
    "\n",
    "query_lens = [l for _,l in queries_with_lens if l < 20]\n",
    "\n",
    "bin_size = 1\n",
    "bin_range = [i-0.5 for i in range(0, max(query_lens)+2, bin_size)]\n",
    "\n",
    "# Plot the histogram\n",
    "n, bins, patches = plt.hist(query_lens, bins=bin_range)\n",
    "\n",
    "# labels and a title\n",
    "plt.xlabel('Length of Query')\n",
    "plt.ylabel('Frequency')\n",
    "plt.title('Distribution of Query Lengths')\n",
    "\n",
    "# Show the plot\n",
    "plt.show()"
   ]
  },
  {
   "cell_type": "code",
   "execution_count": 14,
   "metadata": {},
   "outputs": [
    {
     "name": "stdout",
     "output_type": "stream",
     "text": [
      "Query Length\tFrequency\n",
      "0.0\t\t1.0\n",
      "1.0\t\t254647.0\n",
      "2.0\t\t1411221.0\n",
      "3.0\t\t1519506.0\n",
      "4.0\t\t861411.0\n",
      "5.0\t\t336884.0\n",
      "6.0\t\t112751.0\n",
      "7.0\t\t35281.0\n",
      "8.0\t\t11585.0\n",
      "9.0\t\t4282.0\n",
      "10.0\t\t1693.0\n",
      "11.0\t\t788.0\n",
      "12.0\t\t412.0\n",
      "13.0\t\t184.0\n",
      "14.0\t\t115.0\n",
      "15.0\t\t61.0\n",
      "16.0\t\t68.0\n",
      "17.0\t\t40.0\n",
      "18.0\t\t36.0\n",
      "19.0\t\t11.0\n"
     ]
    }
   ],
   "source": [
    "# Print the frequency counts for each bin\n",
    "print('Query Length\\tFrequency')\n",
    "for i in range(len(n)):\n",
    "    print(f'{bins[i]+0.5}\\t\\t{n[i]}')"
   ]
  },
  {
   "attachments": {},
   "cell_type": "markdown",
   "metadata": {},
   "source": [
    "#### final-aol-queries to aol-queries-final.json"
   ]
  },
  {
   "cell_type": "code",
   "execution_count": 9,
   "metadata": {},
   "outputs": [],
   "source": [
    "with open('./final-aol-queries.txt', 'r') as f:\n",
    "    aol_queries = f.read().splitlines()"
   ]
  },
  {
   "cell_type": "code",
   "execution_count": 14,
   "metadata": {},
   "outputs": [
    {
     "data": {
      "text/plain": [
       "4550977"
      ]
     },
     "execution_count": 14,
     "metadata": {},
     "output_type": "execute_result"
    }
   ],
   "source": [
    "len(aol_queries)"
   ]
  },
  {
   "cell_type": "code",
   "execution_count": 13,
   "metadata": {},
   "outputs": [],
   "source": [
    "import json\n",
    "with open('./aol-queries-final.json', 'w') as f:\n",
    "    json.dump(aol_queries, f)"
   ]
  }
 ],
 "metadata": {
  "kernelspec": {
   "display_name": "Python 3",
   "language": "python",
   "name": "python3"
  },
  "language_info": {
   "codemirror_mode": {
    "name": "ipython",
    "version": 3
   },
   "file_extension": ".py",
   "mimetype": "text/x-python",
   "name": "python",
   "nbconvert_exporter": "python",
   "pygments_lexer": "ipython3",
   "version": "3.10.6"
  },
  "orig_nbformat": 4
 },
 "nbformat": 4,
 "nbformat_minor": 2
}
