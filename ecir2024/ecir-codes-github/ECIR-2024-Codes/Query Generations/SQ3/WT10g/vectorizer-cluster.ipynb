{
 "cells": [
  {
   "cell_type": "markdown",
   "metadata": {},
   "source": [
    "### imports"
   ]
  },
  {
   "cell_type": "code",
   "execution_count": 1,
   "metadata": {},
   "outputs": [
    {
     "data": {
      "text/plain": [
       "<jcc.JCCEnv at 0x7f5053e9dc50>"
      ]
     },
     "execution_count": 1,
     "metadata": {},
     "output_type": "execute_result"
    }
   ],
   "source": [
    "import math\n",
    "import lucene\n",
    "import pickle\n",
    "import time\n",
    "import matplotlib.pyplot as plt\n",
    "import itertools\n",
    "import numpy as np\n",
    "from tqdm import tqdm\n",
    "from java.io import File\n",
    "import xml.etree.ElementTree as ET\n",
    "from collections import defaultdict\n",
    "from org.apache.lucene.store import FSDirectory\n",
    "from org.apache.lucene.util import BytesRefIterator\n",
    "from org.apache.lucene.index import DirectoryReader, Term\n",
    "from org.apache.lucene.analysis.en import EnglishAnalyzer\n",
    "from org.apache.lucene.analysis.core import WhitespaceAnalyzer\n",
    "from org.apache.lucene.queryparser.classic import QueryParser\n",
    "from org.apache.lucene.search import IndexSearcher, BooleanQuery, BooleanClause, TermQuery, BoostQuery\n",
    "from org.apache.lucene.search.similarities import BM25Similarity, LMJelinekMercerSimilarity, LMDirichletSimilarity\n",
    "lucene.initVM()"
   ]
  },
  {
   "cell_type": "code",
   "execution_count": 2,
   "metadata": {},
   "outputs": [],
   "source": [
    "index_path = './documents_index/'  #wt100g document index\n",
    "\n",
    "\n",
    "directory = FSDirectory.open(File(index_path).toPath())\n",
    "indexReader = DirectoryReader.open(directory)"
   ]
  },
  {
   "cell_type": "markdown",
   "metadata": {},
   "source": [
    "### document preprocessing"
   ]
  },
  {
   "cell_type": "code",
   "execution_count": 5,
   "metadata": {},
   "outputs": [],
   "source": [
    "from gensim.parsing.porter import PorterStemmer\n",
    "from gensim.parsing.preprocessing import strip_punctuation\n",
    "from gensim.parsing.preprocessing import remove_stopwords\n",
    "from gensim.parsing.preprocessing import strip_short\n",
    "\n",
    "\n",
    "def alpha(text):\n",
    "    a = text.split()\n",
    "    j = [k for k in a if k.isalpha()]\n",
    "    return ' '.join(j)\n",
    "\n",
    "def getprocessdoc(doc_num):\n",
    "    p = PorterStemmer()\n",
    "    doc = indexReader.document(doc_num)  \n",
    "    raw_doc =  doc.get('CONTENTS')\n",
    "    ids = doc.get('ID')\n",
    "\n",
    "    no_punc = strip_punctuation(raw_doc)\n",
    "    stemed_doc = p.stem_sentence(no_punc)\n",
    "    no_stopword = remove_stopwords(stemed_doc)\n",
    "    no_nonalpha = alpha(no_stopword)\n",
    "    pro_doc = strip_short(no_nonalpha, minsize=4)\n",
    "\n",
    "    return pro_doc\n"
   ]
  },
  {
   "cell_type": "code",
   "execution_count": 37,
   "metadata": {},
   "outputs": [],
   "source": [
    "def getdoc(num):\n",
    "    for i in tqdm(range(num)):\n",
    "        yield getprocessdoc(i)"
   ]
  },
  {
   "cell_type": "markdown",
   "metadata": {},
   "source": [
    "### tf-idf vectorization using scikitlearn"
   ]
  },
  {
   "cell_type": "code",
   "execution_count": 71,
   "metadata": {},
   "outputs": [
    {
     "name": "stderr",
     "output_type": "stream",
     "text": [
      "100%|██████████| 528155/528155 [09:54<00:00, 887.73it/s] \n"
     ]
    }
   ],
   "source": [
    "from sklearn.feature_extraction.text import CountVectorizer, TfidfVectorizer\n",
    "vectorizer = TfidfVectorizer(stop_words='english', max_df=0.4, min_df=10)\n",
    "total_doc = indexReader.numDocs()\n",
    "X = vectorizer.fit_transform(getdoc(total_doc))"
   ]
  },
  {
   "cell_type": "code",
   "execution_count": 87,
   "metadata": {},
   "outputs": [
    {
     "data": {
      "text/plain": [
       "<528155x73464 sparse matrix of type '<class 'numpy.float64'>'\n",
       "\twith 71542455 stored elements in Compressed Sparse Row format>"
      ]
     },
     "execution_count": 87,
     "metadata": {},
     "output_type": "execute_result"
    }
   ],
   "source": [
    "X"
   ]
  },
  {
   "cell_type": "code",
   "execution_count": 89,
   "metadata": {},
   "outputs": [],
   "source": [
    "with open('cleaned_doc.vec', 'wb') as fin:\n",
    "     pickle.dump(X, fin, protocol=pickle.HIGHEST_PROTOCOL)"
   ]
  },
  {
   "cell_type": "code",
   "execution_count": 6,
   "metadata": {},
   "outputs": [],
   "source": [
    "with open('cleaned_doc.vec', 'rb') as handle:\n",
    "    X_tfidf = pickle.load(handle)"
   ]
  },
  {
   "cell_type": "code",
   "execution_count": 19,
   "metadata": {},
   "outputs": [
    {
     "name": "stdout",
     "output_type": "stream",
     "text": [
      "LSA done in 5.219 s\n",
      "Explained variance of the SVD step: 1.5%\n"
     ]
    }
   ],
   "source": [
    "from sklearn.decomposition import TruncatedSVD\n",
    "from sklearn.pipeline import make_pipeline\n",
    "from sklearn.preprocessing import Normalizer\n",
    "from time import time\n",
    "import pickle\n",
    "\n",
    "with open('cleaned_doc.vec', 'rb') as handle:\n",
    "    X_tfidf = pickle.load(handle)\n",
    "\n",
    "\n",
    "lsa = make_pipeline(TruncatedSVD(n_components=500), Normalizer(copy=False))\n",
    "t0 = time()\n",
    "X_lsa = lsa.fit_transform(X_tfidf)\n",
    "explained_variance = lsa[0].explained_variance_ratio_.sum()\n",
    "\n",
    "print(f\"LSA done in {time() - t0:.3f} s\")\n",
    "print(f\"Explained variance of the SVD step: {explained_variance * 100:.1f}%\")\n",
    "\n",
    "# with open('dim-red-vec.pickle', 'wb') as handle:\n",
    "#     pickle.dump(X_lsa, handle, protocol=pickle.HIGHEST_PROTOCOL)\n",
    "#     print('doc-vec saved successfully to file')"
   ]
  },
  {
   "cell_type": "code",
   "execution_count": 109,
   "metadata": {},
   "outputs": [],
   "source": [
    "from sklearn.cluster import KMeans, MiniBatchKMeans\n",
    "true_k = 100\n",
    " \n",
    "# for seed in range(5):\n",
    "#     kmeans = KMeans(\n",
    "#         n_clusters=true_k,\n",
    "#         max_iter=100,\n",
    "#         n_init=1,\n",
    "#         random_state=seed,\n",
    "#     ).fit(X)\n",
    "#     cluster_ids, cluster_sizes = np.unique(kmeans.labels_, return_counts=True)\n",
    "#     print(f\"Number of elements assigned to each cluster: {cluster_sizes}\")\n",
    "# print()\n"
   ]
  },
  {
   "cell_type": "code",
   "execution_count": null,
   "metadata": {},
   "outputs": [],
   "source": [
    "from sklearn.metrics import silhouette_samples, silhouette_score\n",
    "k_range = range(2,20)\n",
    "\n",
    "sse = []\n",
    "\n",
    "for k in k_range:\n",
    "    km = KMeans(n_clusters=k)\n",
    "    km.fit(X_tfidf)\n",
    "    preds = km.fit_predict(X_tfidf)\n",
    "    centers = km.cluster_centers_\n",
    "    score = silhouette_score(X_tfidf, preds)\n",
    "    print(\"For n_clusters = {}, silhouette score is {})\".format(k, score))\n",
    "    sse.append(km.inertia_)"
   ]
  },
  {
   "cell_type": "code",
   "execution_count": null,
   "metadata": {},
   "outputs": [],
   "source": [
    "plt.plot(k_range, sse)"
   ]
  },
  {
   "cell_type": "code",
   "execution_count": 20,
   "metadata": {},
   "outputs": [
    {
     "name": "stdout",
     "output_type": "stream",
     "text": [
      "Init 1/5 with method k-means++\n",
      "Inertia for init 1/5: 0.8131460934990498\n",
      "Init 2/5 with method k-means++\n",
      "Inertia for init 2/5: 0.8001849921494194\n",
      "Init 3/5 with method k-means++\n",
      "Inertia for init 3/5: 0.808760448652096\n",
      "Init 4/5 with method k-means++\n",
      "Inertia for init 4/5: 0.7707530576099133\n",
      "Init 5/5 with method k-means++\n",
      "Inertia for init 5/5: 0.7741522624032409\n",
      "[MiniBatchKMeans] Reassigning 1 cluster centers.\n",
      "Minibatch step 1/8802: mean batch inertia: 4.1594422121685346e-05\n",
      "Minibatch step 2/8802: mean batch inertia: 0.0007042091752306175, ewa inertia: 0.0007042091752306175\n",
      "Minibatch step 3/8802: mean batch inertia: 0.000131847172146701, ewa inertia: 0.000691204790092501\n",
      "Minibatch step 4/8802: mean batch inertia: 0.00011954861084225251, ewa inertia: 0.0006782164416670302\n",
      "Minibatch step 5/8802: mean batch inertia: 0.00025887060604714055, ewa inertia: 0.0006686886695174406\n",
      "Minibatch step 6/8802: mean batch inertia: 0.0001436330654016252, ewa inertia: 0.0006567591122476382\n",
      "Minibatch step 7/8802: mean batch inertia: 8.2654985185722e-05, ewa inertia: 0.0006437151450774404\n",
      "Minibatch step 8/8802: mean batch inertia: 7.854785472285475e-05, ewa inertia: 0.0006308742278403835\n",
      "Minibatch step 9/8802: mean batch inertia: 0.00011462736312856956, ewa inertia: 0.000619144810061277\n",
      "Minibatch step 10/8802: mean batch inertia: 6.724810948685462e-05, ewa inertia: 0.0006066054080533607\n",
      "Minibatch step 11/8802: mean batch inertia: 3.834395588356812e-05, ewa inertia: 0.0005936941897276435\n",
      "Minibatch step 12/8802: mean batch inertia: 6.723301484209809e-05, ewa inertia: 0.0005817326971030657\n",
      "Minibatch step 13/8802: mean batch inertia: 0.00012196488376044212, ewa inertia: 0.000571286514989994\n",
      "Minibatch step 14/8802: mean batch inertia: 5.907781439709263e-05, ewa inertia: 0.0005596488465603732\n",
      "Minibatch step 15/8802: mean batch inertia: 3.7252475467085695e-05, ewa inertia: 0.0005477797085535732\n",
      "Minibatch step 16/8802: mean batch inertia: 5.8803701501198635e-05, ewa inertia: 0.0005366698999276587\n",
      "Minibatch step 17/8802: mean batch inertia: 3.652135079072232e-05, ewa inertia: 0.0005253062448908074\n",
      "Minibatch step 18/8802: mean batch inertia: 3.5370289433846e-05, ewa inertia: 0.0005141746256997284\n",
      "Minibatch step 19/8802: mean batch inertia: 7.781288146195443e-05, ewa inertia: 0.0005042602425802461\n",
      "Minibatch step 20/8802: mean batch inertia: 9.134092626644156e-05, ewa inertia: 0.0004948784845470786\n",
      "Minibatch step 21/8802: mean batch inertia: 5.1802921358251585e-05, ewa inertia: 0.0004848115597024003\n",
      "Minibatch step 22/8802: mean batch inertia: 6.553795870605559e-05, ewa inertia: 0.00047528542876389704\n",
      "Minibatch step 23/8802: mean batch inertia: 5.114082437391021e-05, ewa inertia: 0.00046564862590133406\n",
      "Minibatch step 24/8802: mean batch inertia: 3.6622082584060205e-05, ewa inertia: 0.00045590090265326476\n",
      "Minibatch step 25/8802: mean batch inertia: 3.5934562785166734e-05, ewa inertia: 0.0004463590322997761\n",
      "Minibatch step 26/8802: mean batch inertia: 6.065958853200668e-05, ewa inertia: 0.0004375957250094807\n",
      "Minibatch step 27/8802: mean batch inertia: 4.7559581187536516e-05, ewa inertia: 0.0004287338854661198\n",
      "Minibatch step 28/8802: mean batch inertia: 4.66705059525531e-05, ewa inertia: 0.0004200531915912745\n",
      "Minibatch step 29/8802: mean batch inertia: 5.847158949236826e-05, ewa inertia: 0.0004118378551656978\n",
      "Minibatch step 30/8802: mean batch inertia: 4.5029577967998546e-05, ewa inertia: 0.00040350376575580305\n",
      "Minibatch step 31/8802: mean batch inertia: 4.518482003803657e-05, ewa inertia: 0.0003953625587097538\n",
      "Minibatch step 32/8802: mean batch inertia: 5.4362362877763054e-05, ewa inertia: 0.00038761484335674473\n",
      "Minibatch step 33/8802: mean batch inertia: 4.337174646708696e-05, ewa inertia: 0.00037979344747621723\n",
      "Minibatch step 34/8802: mean batch inertia: 3.5585750578458435e-05, ewa inertia: 0.0003719728559033238\n",
      "Minibatch step 35/8802: mean batch inertia: 3.619212196446364e-05, ewa inertia: 0.0003643437296465619\n",
      "Minibatch step 36/8802: mean batch inertia: 4.217184747380982e-05, ewa inertia: 0.00035702380412063205\n",
      "Minibatch step 37/8802: mean batch inertia: 5.27329956972056e-05, ewa inertia: 0.0003501101466007305\n",
      "Minibatch step 38/8802: mean batch inertia: 5.2022889781980786e-05, ewa inertia: 0.00034333743724625004\n",
      "Minibatch step 39/8802: mean batch inertia: 4.236733112047559e-05, ewa inertia: 0.0003364992279415952\n",
      "Minibatch step 40/8802: mean batch inertia: 8.952846569696591e-05, ewa inertia: 0.00033088791396062076\n",
      "Minibatch step 41/8802: mean batch inertia: 5.737693467722487e-05, ewa inertia: 0.0003246735913903939\n",
      "Minibatch step 42/8802: mean batch inertia: 4.103115269120326e-05, ewa inertia: 0.0003182290763902987\n",
      "Minibatch step 43/8802: mean batch inertia: 3.536042879476293e-05, ewa inertia: 0.00031180214235727356\n",
      "Minibatch step 44/8802: mean batch inertia: 4.390456441472664e-05, ewa inertia: 0.00030571535940808703\n",
      "Minibatch step 45/8802: mean batch inertia: 4.762087051497366e-05, ewa inertia: 0.000299851308130212\n",
      "Minibatch step 46/8802: mean batch inertia: 3.6147935998329094e-05, ewa inertia: 0.0002938598198851053\n",
      "Minibatch step 47/8802: mean batch inertia: 4.342983143129612e-05, ewa inertia: 0.00028816991034806376\n",
      "Minibatch step 48/8802: mean batch inertia: 3.6027605776485254e-05, ewa inertia: 0.00028244109603021273\n",
      "Minibatch step 49/8802: mean batch inertia: 3.486637802715444e-05, ewa inertia: 0.00027681605983629145\n",
      "Minibatch step 50/8802: mean batch inertia: 3.587346309544119e-05, ewa inertia: 0.00027134170915033847\n",
      "Minibatch step 51/8802: mean batch inertia: 4.36223184448967e-05, ewa inertia: 0.0002661677971083181\n",
      "Minibatch step 52/8802: mean batch inertia: 3.930864512303304e-05, ewa inertia: 0.00026101343017161105\n",
      "Minibatch step 53/8802: mean batch inertia: 4.508888253400073e-05, ewa inertia: 0.000256107503567253\n",
      "Minibatch step 54/8802: mean batch inertia: 4.265108987604853e-05, ewa inertia: 0.0002512576543479041\n",
      "Minibatch step 55/8802: mean batch inertia: 3.892723121834657e-05, ewa inertia: 0.00024643338826448426\n",
      "Minibatch step 56/8802: mean batch inertia: 3.854252285873582e-05, ewa inertia: 0.00024170999141796736\n",
      "Minibatch step 57/8802: mean batch inertia: 4.184193210346614e-05, ewa inertia: 0.000237168877217288\n",
      "Minibatch step 58/8802: mean batch inertia: 4.116931964408644e-05, ewa inertia: 0.00023271565754189204\n",
      "Minibatch step 59/8802: mean batch inertia: 4.225816075488128e-05, ewa inertia: 0.0002283883565901957\n",
      "Minibatch step 60/8802: mean batch inertia: 4.69273799358303e-05, ewa inertia: 0.0002242654616124763\n",
      "Minibatch step 61/8802: mean batch inertia: 3.58205849782327e-05, ewa inertia: 0.00021998388851738522\n",
      "Minibatch step 62/8802: mean batch inertia: 3.942632026675583e-05, ewa inertia: 0.00021588151948435794\n",
      "Minibatch step 63/8802: mean batch inertia: 3.757591047126521e-05, ewa inertia: 0.0002118303162259322\n",
      "Minibatch step 64/8802: mean batch inertia: 3.766177322936223e-05, ewa inertia: 0.00020787310942347453\n",
      "Minibatch step 65/8802: mean batch inertia: 3.763157872126216e-05, ewa inertia: 0.000204005126538822\n",
      "Minibatch step 66/8802: mean batch inertia: 3.710775857574523e-05, ewa inertia: 0.0002002131249037806\n",
      "Minibatch step 67/8802: mean batch inertia: 3.757047231524924e-05, ewa inertia: 0.00019651779278398573\n",
      "Minibatch step 68/8802: mean batch inertia: 3.708496688330432e-05, ewa inertia: 0.00019289538972351084\n",
      "Minibatch step 69/8802: mean batch inertia: 3.5435670175773893e-05, ewa inertia: 0.00018931781674398805\n",
      "Minibatch step 70/8802: mean batch inertia: 4.2393431834497894e-05, ewa inertia: 0.00018597961246549102\n",
      "Minibatch step 71/8802: mean batch inertia: 3.8608391532220396e-05, ewa inertia: 0.00018263125582237944\n",
      "Minibatch step 72/8802: mean batch inertia: 3.670398558578159e-05, ewa inertia: 0.0001793157065474698\n",
      "Minibatch step 73/8802: mean batch inertia: 3.782444590047649e-05, ewa inertia: 0.0001761009458938676\n",
      "Minibatch step 74/8802: mean batch inertia: 3.792202121058393e-05, ewa inertia: 0.00017296144336772116\n",
      "Minibatch step 75/8802: mean batch inertia: 4.333022728229141e-05, ewa inertia: 0.00017001614956622092\n",
      "Minibatch step 76/8802: mean batch inertia: 3.614006414379504e-05, ewa inertia: 0.00016697440995695943\n",
      "Minibatch step 77/8802: mean batch inertia: 3.793237308484386e-05, ewa inertia: 0.0001640425026370286\n",
      "Minibatch step 78/8802: mean batch inertia: 3.525433688979481e-05, ewa inertia: 0.00016111636341118094\n",
      "Minibatch step 79/8802: mean batch inertia: 3.6501840978577624e-05, ewa inertia: 0.0001582850516979916\n",
      "[MiniBatchKMeans] Reassigning 1 cluster centers.\n",
      "Minibatch step 80/8802: mean batch inertia: 3.5294975439422165e-05, ewa inertia: 0.00015549064831129746\n",
      "Minibatch step 81/8802: mean batch inertia: 3.5588869247408426e-05, ewa inertia: 0.00015276641276580207\n",
      "Minibatch step 82/8802: mean batch inertia: 0.00020287566632808641, ewa inertia: 0.0001539049230596308\n",
      "Minibatch step 83/8802: mean batch inertia: 0.00036737233088185943, ewa inertia: 0.00015875502207179148\n",
      "Minibatch step 84/8802: mean batch inertia: 0.00020063099494807823, ewa inertia: 0.000159706467619159\n",
      "Minibatch step 85/8802: mean batch inertia: 0.00020018613314766405, ewa inertia: 0.00016062618828188377\n",
      "Minibatch step 86/8802: mean batch inertia: 0.0006923011340341428, ewa inertia: 0.00017270614069940266\n",
      "Minibatch step 87/8802: mean batch inertia: 0.00019739020662562826, ewa inertia: 0.00017326697649624052\n",
      "Minibatch step 88/8802: mean batch inertia: 0.0003586098513289472, ewa inertia: 0.00017747807037379277\n",
      "Minibatch step 89/8802: mean batch inertia: 3.525173949983511e-05, ewa inertia: 0.00017424660851311622\n",
      "Minibatch step 90/8802: mean batch inertia: 0.00019681265042346952, ewa inertia: 0.0001747593216185704\n",
      "Minibatch step 91/8802: mean batch inertia: 3.528503781526811e-05, ewa inertia: 0.00017159038780803027\n",
      "Converged (lack of improvement in inertia) at step 91/8802\n",
      "Init 1/5 with method k-means++\n",
      "Inertia for init 1/5: 0.8131460934990498\n",
      "Init 2/5 with method k-means++\n",
      "Inertia for init 2/5: 0.8001849921494195\n",
      "Init 3/5 with method k-means++\n",
      "Inertia for init 3/5: 0.8087604486520962\n",
      "Init 4/5 with method k-means++\n",
      "Inertia for init 4/5: 0.7707530576099133\n",
      "Init 5/5 with method k-means++\n",
      "Inertia for init 5/5: 0.7741522624032409\n",
      "[MiniBatchKMeans] Reassigning 1 cluster centers.\n",
      "Minibatch step 1/8802: mean batch inertia: 4.159442212168535e-05\n",
      "Minibatch step 2/8802: mean batch inertia: 0.0007042091752306175, ewa inertia: 0.0007042091752306175\n",
      "Minibatch step 3/8802: mean batch inertia: 0.000131847172146701, ewa inertia: 0.000691204790092501\n",
      "Minibatch step 4/8802: mean batch inertia: 0.00011954861084225249, ewa inertia: 0.0006782164416670302\n",
      "Minibatch step 5/8802: mean batch inertia: 0.0002588706060471406, ewa inertia: 0.0006686886695174406\n",
      "Minibatch step 6/8802: mean batch inertia: 0.0001436330654016252, ewa inertia: 0.0006567591122476382\n",
      "Minibatch step 7/8802: mean batch inertia: 8.2654985185722e-05, ewa inertia: 0.0006437151450774404\n",
      "Minibatch step 8/8802: mean batch inertia: 7.854785472285475e-05, ewa inertia: 0.0006308742278403835\n",
      "Minibatch step 9/8802: mean batch inertia: 0.00011462736312856956, ewa inertia: 0.000619144810061277\n",
      "Minibatch step 10/8802: mean batch inertia: 6.72481094868546e-05, ewa inertia: 0.0006066054080533607\n",
      "Minibatch step 11/8802: mean batch inertia: 3.8343955883568115e-05, ewa inertia: 0.0005936941897276435\n",
      "Minibatch step 12/8802: mean batch inertia: 6.723301484209808e-05, ewa inertia: 0.0005817326971030657\n",
      "Minibatch step 13/8802: mean batch inertia: 0.0001219648837604421, ewa inertia: 0.000571286514989994\n",
      "Minibatch step 14/8802: mean batch inertia: 5.907781439709264e-05, ewa inertia: 0.0005596488465603732\n",
      "Minibatch step 15/8802: mean batch inertia: 3.7252475467085695e-05, ewa inertia: 0.0005477797085535732\n",
      "Minibatch step 16/8802: mean batch inertia: 5.8803701501198635e-05, ewa inertia: 0.0005366698999276587\n",
      "Minibatch step 17/8802: mean batch inertia: 3.652135079072233e-05, ewa inertia: 0.0005253062448908074\n",
      "Minibatch step 18/8802: mean batch inertia: 3.5370289433846006e-05, ewa inertia: 0.0005141746256997284\n",
      "Minibatch step 19/8802: mean batch inertia: 7.781288146195443e-05, ewa inertia: 0.0005042602425802461\n",
      "Minibatch step 20/8802: mean batch inertia: 9.134092626644155e-05, ewa inertia: 0.0004948784845470786\n",
      "Minibatch step 21/8802: mean batch inertia: 5.180292135825157e-05, ewa inertia: 0.0004848115597024003\n",
      "Minibatch step 22/8802: mean batch inertia: 6.553795870605559e-05, ewa inertia: 0.00047528542876389704\n",
      "Minibatch step 23/8802: mean batch inertia: 5.114082437391021e-05, ewa inertia: 0.00046564862590133406\n",
      "Minibatch step 24/8802: mean batch inertia: 3.662208258406021e-05, ewa inertia: 0.00045590090265326476\n",
      "Minibatch step 25/8802: mean batch inertia: 3.593456278516674e-05, ewa inertia: 0.0004463590322997761\n",
      "Minibatch step 26/8802: mean batch inertia: 6.0659588532006674e-05, ewa inertia: 0.0004375957250094807\n",
      "Minibatch step 27/8802: mean batch inertia: 4.7559581187536516e-05, ewa inertia: 0.0004287338854661198\n",
      "Minibatch step 28/8802: mean batch inertia: 4.66705059525531e-05, ewa inertia: 0.0004200531915912745\n",
      "Minibatch step 29/8802: mean batch inertia: 5.8471589492368266e-05, ewa inertia: 0.0004118378551656978\n",
      "Minibatch step 30/8802: mean batch inertia: 4.502957796799854e-05, ewa inertia: 0.00040350376575580305\n",
      "Minibatch step 31/8802: mean batch inertia: 4.518482003803658e-05, ewa inertia: 0.0003953625587097538\n",
      "Minibatch step 32/8802: mean batch inertia: 5.4362362877763054e-05, ewa inertia: 0.00038761484335674473\n",
      "Minibatch step 33/8802: mean batch inertia: 4.337174646708695e-05, ewa inertia: 0.00037979344747621723\n",
      "Minibatch step 34/8802: mean batch inertia: 3.5585750578458435e-05, ewa inertia: 0.0003719728559033238\n",
      "Minibatch step 35/8802: mean batch inertia: 3.619212196446364e-05, ewa inertia: 0.0003643437296465619\n",
      "Minibatch step 36/8802: mean batch inertia: 4.217184747380983e-05, ewa inertia: 0.00035702380412063205\n",
      "Minibatch step 37/8802: mean batch inertia: 5.27329956972056e-05, ewa inertia: 0.0003501101466007305\n",
      "Minibatch step 38/8802: mean batch inertia: 5.2022889781980786e-05, ewa inertia: 0.00034333743724625004\n",
      "Minibatch step 39/8802: mean batch inertia: 4.236733112047559e-05, ewa inertia: 0.0003364992279415952\n",
      "Minibatch step 40/8802: mean batch inertia: 8.952846569696591e-05, ewa inertia: 0.00033088791396062076\n",
      "Minibatch step 41/8802: mean batch inertia: 5.737693467722486e-05, ewa inertia: 0.0003246735913903939\n",
      "Minibatch step 42/8802: mean batch inertia: 4.103115269120326e-05, ewa inertia: 0.0003182290763902987\n",
      "Minibatch step 43/8802: mean batch inertia: 3.536042879476293e-05, ewa inertia: 0.00031180214235727356\n",
      "Minibatch step 44/8802: mean batch inertia: 4.390456441472665e-05, ewa inertia: 0.00030571535940808703\n",
      "Minibatch step 45/8802: mean batch inertia: 4.762087051497364e-05, ewa inertia: 0.000299851308130212\n",
      "Minibatch step 46/8802: mean batch inertia: 3.614793599832911e-05, ewa inertia: 0.0002938598198851053\n",
      "Minibatch step 47/8802: mean batch inertia: 4.342983143129612e-05, ewa inertia: 0.00028816991034806376\n",
      "Minibatch step 48/8802: mean batch inertia: 3.602760577648527e-05, ewa inertia: 0.00028244109603021273\n",
      "Minibatch step 49/8802: mean batch inertia: 3.4866378027154435e-05, ewa inertia: 0.00027681605983629145\n",
      "Minibatch step 50/8802: mean batch inertia: 3.587346309544118e-05, ewa inertia: 0.00027134170915033847\n",
      "Minibatch step 51/8802: mean batch inertia: 4.3622318444896697e-05, ewa inertia: 0.0002661677971083181\n",
      "Minibatch step 52/8802: mean batch inertia: 3.930864512303305e-05, ewa inertia: 0.00026101343017161105\n",
      "Minibatch step 53/8802: mean batch inertia: 4.508888253400073e-05, ewa inertia: 0.000256107503567253\n",
      "Minibatch step 54/8802: mean batch inertia: 4.265108987604853e-05, ewa inertia: 0.0002512576543479041\n",
      "Minibatch step 55/8802: mean batch inertia: 3.892723121834657e-05, ewa inertia: 0.00024643338826448426\n",
      "Minibatch step 56/8802: mean batch inertia: 3.854252285873582e-05, ewa inertia: 0.00024170999141796736\n",
      "Minibatch step 57/8802: mean batch inertia: 4.184193210346613e-05, ewa inertia: 0.000237168877217288\n",
      "Minibatch step 58/8802: mean batch inertia: 4.116931964408644e-05, ewa inertia: 0.00023271565754189204\n",
      "Minibatch step 59/8802: mean batch inertia: 4.225816075488128e-05, ewa inertia: 0.0002283883565901957\n",
      "Minibatch step 60/8802: mean batch inertia: 4.69273799358303e-05, ewa inertia: 0.0002242654616124763\n",
      "Minibatch step 61/8802: mean batch inertia: 3.58205849782327e-05, ewa inertia: 0.00021998388851738522\n",
      "Minibatch step 62/8802: mean batch inertia: 3.942632026675583e-05, ewa inertia: 0.00021588151948435794\n",
      "Minibatch step 63/8802: mean batch inertia: 3.757591047126522e-05, ewa inertia: 0.0002118303162259322\n",
      "Minibatch step 64/8802: mean batch inertia: 3.766177322936222e-05, ewa inertia: 0.00020787310942347453\n",
      "Minibatch step 65/8802: mean batch inertia: 3.763157872126216e-05, ewa inertia: 0.000204005126538822\n",
      "Minibatch step 66/8802: mean batch inertia: 3.710775857574522e-05, ewa inertia: 0.0002002131249037806\n",
      "Minibatch step 67/8802: mean batch inertia: 3.7570472315249236e-05, ewa inertia: 0.00019651779278398573\n",
      "Minibatch step 68/8802: mean batch inertia: 3.708496688330433e-05, ewa inertia: 0.00019289538972351084\n",
      "Minibatch step 69/8802: mean batch inertia: 3.5435670175773893e-05, ewa inertia: 0.00018931781674398805\n",
      "Minibatch step 70/8802: mean batch inertia: 4.239343183449789e-05, ewa inertia: 0.00018597961246549102\n",
      "Minibatch step 71/8802: mean batch inertia: 3.8608391532220396e-05, ewa inertia: 0.00018263125582237944\n",
      "Minibatch step 72/8802: mean batch inertia: 3.670398558578158e-05, ewa inertia: 0.0001793157065474698\n",
      "Minibatch step 73/8802: mean batch inertia: 3.782444590047649e-05, ewa inertia: 0.0001761009458938676\n",
      "Minibatch step 74/8802: mean batch inertia: 3.792202121058393e-05, ewa inertia: 0.00017296144336772116\n",
      "Minibatch step 75/8802: mean batch inertia: 4.3330227282291424e-05, ewa inertia: 0.00017001614956622092\n",
      "Minibatch step 76/8802: mean batch inertia: 3.614006414379504e-05, ewa inertia: 0.00016697440995695943\n",
      "Minibatch step 77/8802: mean batch inertia: 3.793237308484386e-05, ewa inertia: 0.0001640425026370286\n",
      "Minibatch step 78/8802: mean batch inertia: 3.5254336889794813e-05, ewa inertia: 0.00016111636341118094\n",
      "Minibatch step 79/8802: mean batch inertia: 3.6501840978577624e-05, ewa inertia: 0.0001582850516979916\n",
      "[MiniBatchKMeans] Reassigning 1 cluster centers.\n",
      "Minibatch step 80/8802: mean batch inertia: 3.529497543942217e-05, ewa inertia: 0.00015549064831129746\n",
      "Minibatch step 81/8802: mean batch inertia: 3.558886924740843e-05, ewa inertia: 0.00015276641276580207\n",
      "Minibatch step 82/8802: mean batch inertia: 0.00020287566632808644, ewa inertia: 0.0001539049230596308\n",
      "Minibatch step 83/8802: mean batch inertia: 0.0003673723308818593, ewa inertia: 0.00015875502207179148\n",
      "Minibatch step 84/8802: mean batch inertia: 0.0002006309949480783, ewa inertia: 0.000159706467619159\n",
      "Minibatch step 85/8802: mean batch inertia: 0.000200186133147664, ewa inertia: 0.00016062618828188377\n",
      "Minibatch step 86/8802: mean batch inertia: 0.0006923011340341428, ewa inertia: 0.00017270614069940266\n",
      "Minibatch step 87/8802: mean batch inertia: 0.00019739020662562832, ewa inertia: 0.00017326697649624052\n",
      "Minibatch step 88/8802: mean batch inertia: 0.0003586098513289473, ewa inertia: 0.00017747807037379277\n",
      "Minibatch step 89/8802: mean batch inertia: 3.525173949983511e-05, ewa inertia: 0.00017424660851311622\n",
      "Minibatch step 90/8802: mean batch inertia: 0.00019681265042346952, ewa inertia: 0.0001747593216185704\n",
      "Minibatch step 91/8802: mean batch inertia: 3.528503781526811e-05, ewa inertia: 0.00017159038780803027\n",
      "Converged (lack of improvement in inertia) at step 91/8802\n"
     ]
    }
   ],
   "source": [
    "from sklearn.metrics import silhouette_samples, silhouette_score\n",
    "from sklearn.cluster import KMeans, MiniBatchKMeans\n",
    "\n",
    "# k_range = range(2,20)\n",
    "k_range = [100]\n",
    "\n",
    "sse = []\n",
    "\n",
    "for k in k_range:\n",
    "    km = MiniBatchKMeans(n_clusters=k, batch_size=6000,\n",
    "        max_iter=100,\n",
    "        n_init=5,\n",
    "        random_state=1, verbose=True).fit(X_lsa)\n",
    "   \n",
    "    preds = km.fit_predict(X_lsa)\n",
    "\n",
    "    centers = km.cluster_centers_\n",
    "    doc_labels = km.labels_\n",
    "    # score = silhouette_score(X, preds)\n",
    "    # print(\"For n_clusters = {}, silhouette score is {})\".format(k, score))\n",
    "    sse.append(km.inertia_)"
   ]
  },
  {
   "cell_type": "code",
   "execution_count": null,
   "metadata": {},
   "outputs": [],
   "source": []
  }
 ],
 "metadata": {
  "kernelspec": {
   "display_name": "Python 3 (ipykernel)",
   "language": "python",
   "name": "python3"
  },
  "language_info": {
   "codemirror_mode": {
    "name": "ipython",
    "version": 3
   },
   "file_extension": ".py",
   "mimetype": "text/x-python",
   "name": "python",
   "nbconvert_exporter": "python",
   "pygments_lexer": "ipython3",
   "version": "3.10.12"
  }
 },
 "nbformat": 4,
 "nbformat_minor": 2
}
